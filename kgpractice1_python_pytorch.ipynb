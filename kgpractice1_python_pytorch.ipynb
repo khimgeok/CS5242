{
  "nbformat": 4,
  "nbformat_minor": 0,
  "metadata": {
    "kernelspec": {
      "display_name": "Python 3",
      "language": "python",
      "name": "python3"
    },
    "language_info": {
      "codemirror_mode": {
        "name": "ipython",
        "version": 3
      },
      "file_extension": ".py",
      "mimetype": "text/x-python",
      "name": "python",
      "nbconvert_exporter": "python",
      "pygments_lexer": "ipython3",
      "version": "3.7.3"
    },
    "colab": {
      "name": "kgpractice1_python_pytorch.ipynb",
      "provenance": [],
      "collapsed_sections": [],
      "toc_visible": true,
      "include_colab_link": true
    }
  },
  "cells": [
    {
      "cell_type": "markdown",
      "metadata": {
        "id": "view-in-github",
        "colab_type": "text"
      },
      "source": [
        "<a href=\"https://colab.research.google.com/github/khimgeok/CS5242/blob/main/kgpractice1_python_pytorch.ipynb\" target=\"_parent\"><img src=\"https://colab.research.google.com/assets/colab-badge.svg\" alt=\"Open In Colab\"/></a>"
      ]
    },
    {
      "cell_type": "markdown",
      "metadata": {
        "id": "VWY48OqAk8PT"
      },
      "source": [
        "## Practice 1: PYTHON 1"
      ]
    },
    {
      "cell_type": "markdown",
      "metadata": {
        "id": "5BSHzb5jlUHT"
      },
      "source": [
        "Use Jupyter Notebook, Google Colaboratory, or your program of choice to answer the following questions using Python code."
      ]
    },
    {
      "cell_type": "markdown",
      "metadata": {
        "id": "G1g4ugP89VRR"
      },
      "source": [
        "Question 1"
      ]
    },
    {
      "cell_type": "code",
      "metadata": {
        "id": "iNDlX-nS9VRW"
      },
      "source": [
        "# Calculate how much money you would have if you compounded $100 at 10% for 8 years"
      ],
      "execution_count": null,
      "outputs": []
    },
    {
      "cell_type": "code",
      "metadata": {
        "colab": {
          "base_uri": "https://localhost:8080/"
        },
        "id": "X33gzQFE9VRW",
        "outputId": "24ec100b-f335-4d69-f985-30a8c14999d1"
      },
      "source": [
        "100*(1+0.1)**8"
      ],
      "execution_count": null,
      "outputs": [
        {
          "output_type": "execute_result",
          "data": {
            "text/plain": [
              "214.35888100000017"
            ]
          },
          "metadata": {
            "tags": []
          },
          "execution_count": 3
        }
      ]
    },
    {
      "cell_type": "markdown",
      "metadata": {
        "id": "AwC8bLO29VRX"
      },
      "source": [
        "Question 2"
      ]
    },
    {
      "cell_type": "code",
      "metadata": {
        "id": "M8RlNjjj9VRY"
      },
      "source": [
        "# Create a variable called “days”. Assign the value “7” to this variable. "
      ],
      "execution_count": null,
      "outputs": []
    },
    {
      "cell_type": "code",
      "metadata": {
        "id": "YMc5k_GB9VRY"
      },
      "source": [
        "days = 7"
      ],
      "execution_count": null,
      "outputs": []
    },
    {
      "cell_type": "code",
      "metadata": {
        "colab": {
          "base_uri": "https://localhost:8080/",
          "height": 232
        },
        "id": "DpwZured9VRY",
        "outputId": "561bd1f7-73aa-48f4-b99f-ab0f2f4aab48"
      },
      "source": [
        "# Try to execute the following code \n",
        "\n",
        "print(\"There are \" + days + \" days in a week\")\n",
        "\n",
        "# Rewrite the code to avoid the error"
      ],
      "execution_count": null,
      "outputs": [
        {
          "output_type": "error",
          "ename": "TypeError",
          "evalue": "ignored",
          "traceback": [
            "\u001b[0;31m---------------------------------------------------------------------------\u001b[0m",
            "\u001b[0;31mTypeError\u001b[0m                                 Traceback (most recent call last)",
            "\u001b[0;32m<ipython-input-6-2dabe37ad710>\u001b[0m in \u001b[0;36m<module>\u001b[0;34m()\u001b[0m\n\u001b[1;32m      1\u001b[0m \u001b[0;31m# Try to execute the following code\u001b[0m\u001b[0;34m\u001b[0m\u001b[0;34m\u001b[0m\u001b[0;34m\u001b[0m\u001b[0m\n\u001b[1;32m      2\u001b[0m \u001b[0;34m\u001b[0m\u001b[0m\n\u001b[0;32m----> 3\u001b[0;31m \u001b[0mprint\u001b[0m\u001b[0;34m(\u001b[0m\u001b[0;34m\"There are \"\u001b[0m \u001b[0;34m+\u001b[0m \u001b[0mdays\u001b[0m \u001b[0;34m+\u001b[0m \u001b[0;34m\" days in a week\"\u001b[0m\u001b[0;34m)\u001b[0m\u001b[0;34m\u001b[0m\u001b[0;34m\u001b[0m\u001b[0m\n\u001b[0m\u001b[1;32m      4\u001b[0m \u001b[0;34m\u001b[0m\u001b[0m\n\u001b[1;32m      5\u001b[0m \u001b[0;31m# Rewrite the code to avoid the error\u001b[0m\u001b[0;34m\u001b[0m\u001b[0;34m\u001b[0m\u001b[0;34m\u001b[0m\u001b[0m\n",
            "\u001b[0;31mTypeError\u001b[0m: must be str, not int"
          ]
        }
      ]
    },
    {
      "cell_type": "code",
      "metadata": {
        "colab": {
          "base_uri": "https://localhost:8080/"
        },
        "id": "k5UsnwG39VRY",
        "outputId": "f17f6b12-13eb-487b-8e12-04ae07867745"
      },
      "source": [
        "print(\"There are \" + str(days) + \" days in a week\")"
      ],
      "execution_count": null,
      "outputs": [
        {
          "output_type": "stream",
          "text": [
            "There are 7 days in a week\n"
          ],
          "name": "stdout"
        }
      ]
    },
    {
      "cell_type": "markdown",
      "metadata": {
        "id": "4AyvmzIaltpb"
      },
      "source": [
        "There are 4 data types in the Python programming language. These data types let you group items into collections with specific properties (that you can then manipulate further later).\n",
        "- **Lists** are a collection which is ordered and changeable. Allows duplicate members.\n",
        "- **Dictionaries** are a collection which are unordered, changeable and indexed. No duplicate\n",
        "members.\n",
        "- **Tuples** are a collection which is ordered and unchangeable. Allows duplicate members.\n",
        "- **Sets** are a collection which is unordered and unindexed. No duplicate members."
      ]
    },
    {
      "cell_type": "markdown",
      "metadata": {
        "id": "YEmc3rxZ9VRZ"
      },
      "source": [
        "Question 3"
      ]
    },
    {
      "cell_type": "code",
      "metadata": {
        "id": "Mk7UGefK9VRZ"
      },
      "source": [
        "# Create a list with the following elements [“Tuesday”, “Wednesday”, “Thursday”, “Friday”,\n",
        "# “Saturday”, “Sunday”, 42]. Add the string ‘Someday’ into this list. \n",
        "\n",
        "# Add the variable ‘days’ that you previously created into this list"
      ],
      "execution_count": null,
      "outputs": []
    },
    {
      "cell_type": "code",
      "metadata": {
        "id": "CK1US2fs9VRZ",
        "colab": {
          "base_uri": "https://localhost:8080/"
        },
        "outputId": "b3213b9e-b65a-4188-8360-1fbbc18844c7"
      },
      "source": [
        "\n",
        "mylist = ['Tuesday', 'Wednesday', 'Thursday', 'Friday', 'Saturday', 'Sunday', 42]\n",
        "mylist.append('Someday')\n",
        "mylist.append(days) \n",
        "mylist\n",
        "\n"
      ],
      "execution_count": null,
      "outputs": [
        {
          "output_type": "execute_result",
          "data": {
            "text/plain": [
              "['Tuesday',\n",
              " 'Wednesday',\n",
              " 'Thursday',\n",
              " 'Friday',\n",
              " 'Saturday',\n",
              " 'Sunday',\n",
              " 42,\n",
              " 'Someday',\n",
              " 7]"
            ]
          },
          "metadata": {
            "tags": []
          },
          "execution_count": 9
        }
      ]
    },
    {
      "cell_type": "code",
      "metadata": {
        "colab": {
          "base_uri": "https://localhost:8080/"
        },
        "id": "GzZtNVk49VRa",
        "outputId": "00527cee-6610-4179-e22a-789a733909c6"
      },
      "source": [
        "list"
      ],
      "execution_count": null,
      "outputs": [
        {
          "output_type": "execute_result",
          "data": {
            "text/plain": [
              "['Tuesday',\n",
              " 'Wednesday',\n",
              " 'Thursday',\n",
              " 'Friday',\n",
              " 'Saturday',\n",
              " 'Sunday',\n",
              " 42,\n",
              " 'Someday',\n",
              " 7]"
            ]
          },
          "metadata": {
            "tags": []
          },
          "execution_count": 12
        }
      ]
    },
    {
      "cell_type": "code",
      "metadata": {
        "id": "DLknd_Ln9VRa"
      },
      "source": [
        "# Create a new variable called ‘sliced_list’, which only contain the first 8 elements of the \n",
        "# first list. Delete the integer ‘42’ from the list. Change the string ‘Someday’ to ‘Monday’"
      ],
      "execution_count": null,
      "outputs": []
    },
    {
      "cell_type": "code",
      "metadata": {
        "colab": {
          "base_uri": "https://localhost:8080/"
        },
        "id": "xtRDmxKn9VRa",
        "outputId": "af2c0eae-aed8-4534-daef-4fdceb910245"
      },
      "source": [
        "sliced_list = mylist[:8]\n",
        "sliced_list.remove(42)\n",
        "sliced_list[-1] = 'Monday'\n",
        "sliced_list"
      ],
      "execution_count": null,
      "outputs": [
        {
          "output_type": "execute_result",
          "data": {
            "text/plain": [
              "['Tuesday', 'Wednesday', 'Thursday', 'Friday', 'Saturday', 'Sunday', 'Monday']"
            ]
          },
          "metadata": {
            "tags": []
          },
          "execution_count": 12
        }
      ]
    },
    {
      "cell_type": "markdown",
      "metadata": {
        "id": "tkP_4xzY9VRa"
      },
      "source": [
        "Question 4"
      ]
    },
    {
      "cell_type": "code",
      "metadata": {
        "colab": {
          "base_uri": "https://localhost:8080/"
        },
        "id": "MycVW7Uu9VRb",
        "outputId": "dbd96f5f-d7f7-4a3d-9934-4657e25655f0"
      },
      "source": [
        "# Create a dictionary with the following key:value pairs.\n",
        "# 'name':['john','mary','peter','jeff','bill','lisa','jose'],\n",
        "# 'age':[23,78,22,19,45,33,20],\n",
        "# 'gender':['M','F','M','M','M','F','M'],\n",
        "# 'State':['california','dc','california','dc','california','texas','texas'],\n",
        "# 'num_children':[2,0,0,3,2,1,4]\n",
        "\n",
        "mydict = {'name':['john','mary','peter','jeff','bill','lisa','jose'],\n",
        "          'age':[23,78,22,19,45,33,20],\n",
        "          'gender':['M','F','M','M','M','F','M'],\n",
        "          'State':['california','dc','california','dc','california','texas','texas'],\n",
        "          'num_children':[2,0,0,3,2,1,4]}\n",
        "\n",
        "print(mydict)\n",
        "\n",
        "\n",
        "\n",
        "\n",
        "\n",
        "\n",
        "dict"
      ],
      "execution_count": null,
      "outputs": [
        {
          "output_type": "stream",
          "text": [
            "{'name': ['john', 'mary', 'peter', 'jeff', 'bill', 'lisa', 'jose'], 'age': [23, 78, 22, 19, 45, 33, 20], 'gender': ['M', 'F', 'M', 'M', 'M', 'F', 'M'], 'State': ['california', 'dc', 'california', 'dc', 'california', 'texas', 'texas'], 'num_children': [2, 0, 0, 3, 2, 1, 4]}\n"
          ],
          "name": "stdout"
        },
        {
          "output_type": "execute_result",
          "data": {
            "text/plain": [
              "dict"
            ]
          },
          "metadata": {
            "tags": []
          },
          "execution_count": 3
        }
      ]
    },
    {
      "cell_type": "code",
      "metadata": {
        "colab": {
          "base_uri": "https://localhost:8080/"
        },
        "id": "eRYIL6cu9VRb",
        "outputId": "55c8f7a8-1847-484a-fffb-094472d9aa8f"
      },
      "source": [
        "# Add the following key:value pair to the dictionary.\n",
        "# 'num_pets':[5,1,0,5,2,2,3]\n",
        "mydict.update({'num_pets':[5,1,0,5,2,2,3]})\n",
        "print(mydict)\n",
        "\n",
        "dict"
      ],
      "execution_count": null,
      "outputs": [
        {
          "output_type": "stream",
          "text": [
            "{'name': ['john', 'mary', 'peter', 'jeff', 'bill', 'lisa', 'jose'], 'age': [23, 78, 22, 19, 45, 33, 20], 'gender': ['M', 'F', 'M', 'M', 'M', 'F', 'M'], 'State': ['california', 'dc', 'california', 'dc', 'california', 'texas', 'texas'], 'num_children': [2, 0, 0, 3, 2, 1, 4], 'num_pets': [5, 1, 0, 5, 2, 2, 3]}\n"
          ],
          "name": "stdout"
        },
        {
          "output_type": "execute_result",
          "data": {
            "text/plain": [
              "dict"
            ]
          },
          "metadata": {
            "tags": []
          },
          "execution_count": 4
        }
      ]
    },
    {
      "cell_type": "markdown",
      "metadata": {
        "id": "QIfaC7FH9VRb"
      },
      "source": [
        "Question 5"
      ]
    },
    {
      "cell_type": "code",
      "metadata": {
        "id": "SpSta48y9VRb",
        "colab": {
          "base_uri": "https://localhost:8080/",
          "height": 254
        },
        "outputId": "8a2f0108-3ae3-48d7-bd89-27d99b28bd0f"
      },
      "source": [
        "# Import the pandas library as pd and the matplotlib.pylot library as plt. Convert the \n",
        "# dictionary above to a dataframe\n",
        "import pandas as pd\n",
        "import matplotlib.pyplot as plt\n",
        "df = pd.DataFrame(mydict)\n",
        "df\n"
      ],
      "execution_count": null,
      "outputs": [
        {
          "output_type": "execute_result",
          "data": {
            "text/html": [
              "<div>\n",
              "<style scoped>\n",
              "    .dataframe tbody tr th:only-of-type {\n",
              "        vertical-align: middle;\n",
              "    }\n",
              "\n",
              "    .dataframe tbody tr th {\n",
              "        vertical-align: top;\n",
              "    }\n",
              "\n",
              "    .dataframe thead th {\n",
              "        text-align: right;\n",
              "    }\n",
              "</style>\n",
              "<table border=\"1\" class=\"dataframe\">\n",
              "  <thead>\n",
              "    <tr style=\"text-align: right;\">\n",
              "      <th></th>\n",
              "      <th>name</th>\n",
              "      <th>age</th>\n",
              "      <th>gender</th>\n",
              "      <th>State</th>\n",
              "      <th>num_children</th>\n",
              "      <th>num_pets</th>\n",
              "    </tr>\n",
              "  </thead>\n",
              "  <tbody>\n",
              "    <tr>\n",
              "      <th>0</th>\n",
              "      <td>john</td>\n",
              "      <td>23</td>\n",
              "      <td>M</td>\n",
              "      <td>california</td>\n",
              "      <td>2</td>\n",
              "      <td>5</td>\n",
              "    </tr>\n",
              "    <tr>\n",
              "      <th>1</th>\n",
              "      <td>mary</td>\n",
              "      <td>78</td>\n",
              "      <td>F</td>\n",
              "      <td>dc</td>\n",
              "      <td>0</td>\n",
              "      <td>1</td>\n",
              "    </tr>\n",
              "    <tr>\n",
              "      <th>2</th>\n",
              "      <td>peter</td>\n",
              "      <td>22</td>\n",
              "      <td>M</td>\n",
              "      <td>california</td>\n",
              "      <td>0</td>\n",
              "      <td>0</td>\n",
              "    </tr>\n",
              "    <tr>\n",
              "      <th>3</th>\n",
              "      <td>jeff</td>\n",
              "      <td>19</td>\n",
              "      <td>M</td>\n",
              "      <td>dc</td>\n",
              "      <td>3</td>\n",
              "      <td>5</td>\n",
              "    </tr>\n",
              "    <tr>\n",
              "      <th>4</th>\n",
              "      <td>bill</td>\n",
              "      <td>45</td>\n",
              "      <td>M</td>\n",
              "      <td>california</td>\n",
              "      <td>2</td>\n",
              "      <td>2</td>\n",
              "    </tr>\n",
              "    <tr>\n",
              "      <th>5</th>\n",
              "      <td>lisa</td>\n",
              "      <td>33</td>\n",
              "      <td>F</td>\n",
              "      <td>texas</td>\n",
              "      <td>1</td>\n",
              "      <td>2</td>\n",
              "    </tr>\n",
              "    <tr>\n",
              "      <th>6</th>\n",
              "      <td>jose</td>\n",
              "      <td>20</td>\n",
              "      <td>M</td>\n",
              "      <td>texas</td>\n",
              "      <td>4</td>\n",
              "      <td>3</td>\n",
              "    </tr>\n",
              "  </tbody>\n",
              "</table>\n",
              "</div>"
            ],
            "text/plain": [
              "    name  age gender       State  num_children  num_pets\n",
              "0   john   23      M  california             2         5\n",
              "1   mary   78      F          dc             0         1\n",
              "2  peter   22      M  california             0         0\n",
              "3   jeff   19      M          dc             3         5\n",
              "4   bill   45      M  california             2         2\n",
              "5   lisa   33      F       texas             1         2\n",
              "6   jose   20      M       texas             4         3"
            ]
          },
          "metadata": {
            "tags": []
          },
          "execution_count": 5
        }
      ]
    },
    {
      "cell_type": "code",
      "metadata": {
        "colab": {
          "base_uri": "https://localhost:8080/",
          "height": 266
        },
        "id": "wQwnpU-W9VRc",
        "outputId": "9816454a-8d18-4b2c-c294-61bd7eb9f00c"
      },
      "source": [
        "df"
      ],
      "execution_count": null,
      "outputs": [
        {
          "output_type": "execute_result",
          "data": {
            "text/html": [
              "<div>\n",
              "<style scoped>\n",
              "    .dataframe tbody tr th:only-of-type {\n",
              "        vertical-align: middle;\n",
              "    }\n",
              "\n",
              "    .dataframe tbody tr th {\n",
              "        vertical-align: top;\n",
              "    }\n",
              "\n",
              "    .dataframe thead th {\n",
              "        text-align: right;\n",
              "    }\n",
              "</style>\n",
              "<table border=\"1\" class=\"dataframe\">\n",
              "  <thead>\n",
              "    <tr style=\"text-align: right;\">\n",
              "      <th></th>\n",
              "      <th>name</th>\n",
              "      <th>age</th>\n",
              "      <th>gender</th>\n",
              "      <th>State</th>\n",
              "      <th>num_children</th>\n",
              "      <th>num_pets</th>\n",
              "    </tr>\n",
              "  </thead>\n",
              "  <tbody>\n",
              "    <tr>\n",
              "      <th>0</th>\n",
              "      <td>john</td>\n",
              "      <td>23</td>\n",
              "      <td>M</td>\n",
              "      <td>california</td>\n",
              "      <td>2</td>\n",
              "      <td>5</td>\n",
              "    </tr>\n",
              "    <tr>\n",
              "      <th>1</th>\n",
              "      <td>mary</td>\n",
              "      <td>78</td>\n",
              "      <td>F</td>\n",
              "      <td>dc</td>\n",
              "      <td>0</td>\n",
              "      <td>1</td>\n",
              "    </tr>\n",
              "    <tr>\n",
              "      <th>2</th>\n",
              "      <td>peter</td>\n",
              "      <td>22</td>\n",
              "      <td>M</td>\n",
              "      <td>california</td>\n",
              "      <td>0</td>\n",
              "      <td>0</td>\n",
              "    </tr>\n",
              "    <tr>\n",
              "      <th>3</th>\n",
              "      <td>jeff</td>\n",
              "      <td>19</td>\n",
              "      <td>M</td>\n",
              "      <td>dc</td>\n",
              "      <td>3</td>\n",
              "      <td>5</td>\n",
              "    </tr>\n",
              "    <tr>\n",
              "      <th>4</th>\n",
              "      <td>bill</td>\n",
              "      <td>45</td>\n",
              "      <td>M</td>\n",
              "      <td>california</td>\n",
              "      <td>2</td>\n",
              "      <td>2</td>\n",
              "    </tr>\n",
              "    <tr>\n",
              "      <th>5</th>\n",
              "      <td>lisa</td>\n",
              "      <td>33</td>\n",
              "      <td>F</td>\n",
              "      <td>texas</td>\n",
              "      <td>1</td>\n",
              "      <td>2</td>\n",
              "    </tr>\n",
              "    <tr>\n",
              "      <th>6</th>\n",
              "      <td>jose</td>\n",
              "      <td>20</td>\n",
              "      <td>M</td>\n",
              "      <td>texas</td>\n",
              "      <td>4</td>\n",
              "      <td>3</td>\n",
              "    </tr>\n",
              "  </tbody>\n",
              "</table>\n",
              "</div>"
            ],
            "text/plain": [
              "    name  age gender       State  num_children  num_pets\n",
              "0   john   23      M  california             2         5\n",
              "1   mary   78      F          dc             0         1\n",
              "2  peter   22      M  california             0         0\n",
              "3   jeff   19      M          dc             3         5\n",
              "4   bill   45      M  california             2         2\n",
              "5   lisa   33      F       texas             1         2\n",
              "6   jose   20      M       texas             4         3"
            ]
          },
          "metadata": {
            "tags": []
          },
          "execution_count": 20
        }
      ]
    },
    {
      "cell_type": "markdown",
      "metadata": {
        "id": "Qi123IFqEZNj"
      },
      "source": [
        "Question 6"
      ]
    },
    {
      "cell_type": "code",
      "metadata": {
        "colab": {
          "base_uri": "https://localhost:8080/",
          "height": 280
        },
        "id": "Eb9NCxBq9VRc",
        "outputId": "7253cb0a-0a3a-4753-d6d2-c9f67ade6097"
      },
      "source": [
        "# Plot a scatterplot of 'num_childern' against 'num_pets'\n",
        "plt.scatter(df['num_children'], df['num_pets'])\n",
        "plt.xlabel(\"num_children\")\n",
        "plt.ylabel(\"num_pets\")\n",
        "plt.show()"
      ],
      "execution_count": null,
      "outputs": [
        {
          "output_type": "display_data",
          "data": {
            "image/png": "[encoded data removed]",
            "text/plain": [
              "<Figure size 432x288 with 1 Axes>"
            ]
          },
          "metadata": {
            "tags": [],
            "needs_background": "light"
          }
        }
      ]
    },
    {
      "cell_type": "markdown",
      "metadata": {
        "id": "RIUV8yWRFHpz"
      },
      "source": [
        "Question 7"
      ]
    },
    {
      "cell_type": "code",
      "metadata": {
        "id": "rRodth8O9VRc",
        "colab": {
          "base_uri": "https://localhost:8080/",
          "height": 279
        },
        "outputId": "11a74a46-5b1b-4868-98c0-8d782310131d"
      },
      "source": [
        "# Plot a bar plot of 'name' against 'age'\n",
        "plt.bar(df['name'], df['age'])\n",
        "plt.xlabel('name')\n",
        "plt.legend('age', loc=1)\n",
        "plt.show()\n"
      ],
      "execution_count": null,
      "outputs": [
        {
          "output_type": "display_data",
          "data": {
            "image/png": "[encoded data removed]",
            "text/plain": [
              "<Figure size 432x288 with 1 Axes>"
            ]
          },
          "metadata": {
            "tags": [],
            "needs_background": "light"
          }
        }
      ]
    },
    {
      "cell_type": "markdown",
      "metadata": {
        "id": "qDekKnK9FLz5"
      },
      "source": [
        "Question 8"
      ]
    },
    {
      "cell_type": "code",
      "metadata": {
        "id": "LavXP2C89VRc"
      },
      "source": [
        "# Create a list with the numbers 1 to 10. Write a program to loop through the numbers in \n",
        "# the list and print “odd” if the number is odd and “even” if the number is even."
      ],
      "execution_count": null,
      "outputs": []
    },
    {
      "cell_type": "code",
      "metadata": {
        "id": "C1cjmY8C9VRd",
        "colab": {
          "base_uri": "https://localhost:8080/"
        },
        "outputId": "f8a0367c-bc3f-4cb5-81ed-91c914a05e95"
      },
      "source": [
        "mylist = [1,2,3,4,5,6,7,8,9,10]\r\n",
        "\r\n",
        "for num in mylist:\r\n",
        "  if num % 2 == 0:\r\n",
        "    print(str(num) + ' is odd')\r\n",
        "  else:\r\n",
        "    print(str(num) + ' is even')"
      ],
      "execution_count": null,
      "outputs": [
        {
          "output_type": "stream",
          "text": [
            "1 is even\n",
            "2 is odd\n",
            "3 is even\n",
            "4 is odd\n",
            "5 is even\n",
            "6 is odd\n",
            "7 is even\n",
            "8 is odd\n",
            "9 is even\n",
            "10 is odd\n"
          ],
          "name": "stdout"
        }
      ]
    },
    {
      "cell_type": "markdown",
      "metadata": {
        "id": "VHLUxv0PmN1W"
      },
      "source": [
        "## PYTHON 2"
      ]
    },
    {
      "cell_type": "markdown",
      "metadata": {
        "id": "VyhUjkoZmS_l"
      },
      "source": [
        "Third-Party Python Libraries\n",
        "\n",
        "a. NumPy (for low-level math operations)\n",
        "\n",
        "b. Pandas (for data loading and manipulation)\n",
        "\n",
        "c. Matplotlib and Seaborn (for data visualization)\n"
      ]
    },
    {
      "cell_type": "markdown",
      "metadata": {
        "id": "QRI37bXcvZKQ"
      },
      "source": [
        "### NumPy"
      ]
    },
    {
      "cell_type": "markdown",
      "metadata": {
        "id": "F8urzRM6o_N6"
      },
      "source": [
        "The purpose of this tutorial is to familiarize with NumPy array creation, its operations like slicing, indexing, transposing and some important mathematical functions.\n",
        "\n",
        "- NumPy is an N-dimensional array type called ndarray.\n",
        "\n",
        "- It describes the collection of items of the same type. Each element in ndarray is\n",
        "an object of data-type object (called dtype)\n",
        "\n",
        "- Images are loaded into NumPy array\n",
        "\n",
        "**1. Create a 1-D NumPy array ‘A’, from list [5 8 10 5 4 3 2 1], check its parameters (ndim, shape, itemsize, dtype)**\n"
      ]
    },
    {
      "cell_type": "code",
      "metadata": {
        "colab": {
          "base_uri": "https://localhost:8080/"
        },
        "id": "2YjtIZL0JVNt",
        "outputId": "4cbdca32-95e2-4a37-8d32-6bcfa6e0f035"
      },
      "source": [
        "import numpy as np\n",
        "mylist = [5, 8, 10, 5, 4, 3, 2, 1]\n",
        "A = np.array(mylist)\n",
        "print('ndim = ' + str(A.ndim) + ', shape = ' + str(A.shape) + ', itemsize = ' + str(A.itemsize) + ', dtype = ' + str(A.dtype))\n",
        "\n",
        "\n"
      ],
      "execution_count": null,
      "outputs": [
        {
          "output_type": "stream",
          "text": [
            "ndim = 1, shape = (8,), itemsize = 8, dtype = int64\n"
          ],
          "name": "stdout"
        }
      ]
    },
    {
      "cell_type": "markdown",
      "metadata": {
        "id": "gif0QjwmKxMW"
      },
      "source": [
        "**2. Create a 2-D NumPy array ‘B’. Check its parameters \n",
        " B = [[ True False]\n",
        "      [False  True]]**\n"
      ]
    },
    {
      "cell_type": "code",
      "metadata": {
        "colab": {
          "base_uri": "https://localhost:8080/"
        },
        "id": "4usqGh-0J7lr",
        "outputId": "a26fc335-9531-4fe9-819b-da3073b3164a"
      },
      "source": [
        "mylist = [[True, False], [False, True]]\n",
        "B = np.array(mylist)\n",
        "print('ndim = ' + str(B.ndim) + ', shape = ' + str(B.shape) + ', itemsize = ' + str(B.itemsize) + ', dtype = ' + str(B.dtype))\n"
      ],
      "execution_count": null,
      "outputs": [
        {
          "output_type": "stream",
          "text": [
            "ndim = 2, shape = (2, 2), itemsize = 1, dtype = bool\n"
          ],
          "name": "stdout"
        }
      ]
    },
    {
      "cell_type": "markdown",
      "metadata": {
        "id": "uwIkhZxJLQ6p"
      },
      "source": [
        "**3.  Create a 1-D NumPy array ‘C’ of size 1 * 4,  consisting of all ones i.e. \n",
        "        C = [1. 1. 1. 1.]**\n"
      ]
    },
    {
      "cell_type": "code",
      "metadata": {
        "colab": {
          "base_uri": "https://localhost:8080/"
        },
        "id": "5CRVt_k1K54Q",
        "outputId": "e269c3cd-80de-435e-f3e2-1a151bc15644"
      },
      "source": [
        "C = np.ones((1,4))\n",
        "print(C)\n"
      ],
      "execution_count": null,
      "outputs": [
        {
          "output_type": "stream",
          "text": [
            "[[1. 1. 1. 1.]]\n"
          ],
          "name": "stdout"
        }
      ]
    },
    {
      "cell_type": "markdown",
      "metadata": {
        "id": "1ibs4LgRLGg7"
      },
      "source": [
        "**4.  Create a 2-D NumPy array,‘D’ of size 5 * 4, consisting of number from   \n",
        "     0,1,2,3,4….20**\n",
        "     \n",
        "     D =  \n",
        "            [[ 0  1  2  3]\n",
        "             [ 4  5  6  7]\n",
        "             [ 8  9 10 11]\n",
        "             [12 13 14 15]\n",
        "             [16 17 18 19]]"
      ]
    },
    {
      "cell_type": "code",
      "metadata": {
        "colab": {
          "base_uri": "https://localhost:8080/"
        },
        "id": "-kb7x8kPLgwD",
        "outputId": "e3594f77-6776-4da1-b6d0-62b55ddd48c1"
      },
      "source": [
        "D = np.arange(0,20,1).reshape(5,4)\n",
        "print(D)"
      ],
      "execution_count": null,
      "outputs": [
        {
          "output_type": "stream",
          "text": [
            "[[ 0  1  2  3]\n",
            " [ 4  5  6  7]\n",
            " [ 8  9 10 11]\n",
            " [12 13 14 15]\n",
            " [16 17 18 19]]\n"
          ],
          "name": "stdout"
        }
      ]
    },
    {
      "cell_type": "markdown",
      "metadata": {
        "id": "h_10eDwhLZdc"
      },
      "source": [
        "**5.  Add array ‘C’ to array ‘D’. (You will be doing broadcasting!!)**\n"
      ]
    },
    {
      "cell_type": "code",
      "metadata": {
        "colab": {
          "base_uri": "https://localhost:8080/"
        },
        "id": "Vy_3cDDSLvOK",
        "outputId": "1ea4f232-7689-44e0-c334-24cf35e1fc9e"
      },
      "source": [
        "sum_cd = C + D\r\n",
        "print(sum_cd)"
      ],
      "execution_count": null,
      "outputs": [
        {
          "output_type": "stream",
          "text": [
            "[[ 1.  2.  3.  4.]\n",
            " [ 5.  6.  7.  8.]\n",
            " [ 9. 10. 11. 12.]\n",
            " [13. 14. 15. 16.]\n",
            " [17. 18. 19. 20.]]\n"
          ],
          "name": "stdout"
        }
      ]
    },
    {
      "cell_type": "markdown",
      "metadata": {
        "id": "d3ygbOhWLuCz"
      },
      "source": [
        "**6.  Transpose the 2-D array ‘D’**"
      ]
    },
    {
      "cell_type": "code",
      "metadata": {
        "colab": {
          "base_uri": "https://localhost:8080/"
        },
        "id": "imVg9qYNL370",
        "outputId": "f95ae1cd-e505-4c1f-9c2f-91c07538b9ea"
      },
      "source": [
        "transpose_D = D.transpose()\r\n",
        "print(transpose_D)"
      ],
      "execution_count": null,
      "outputs": [
        {
          "output_type": "stream",
          "text": [
            "[[ 0  4  8 12 16]\n",
            " [ 1  5  9 13 17]\n",
            " [ 2  6 10 14 18]\n",
            " [ 3  7 11 15 19]]\n"
          ],
          "name": "stdout"
        }
      ]
    },
    {
      "cell_type": "markdown",
      "metadata": {
        "id": "_aHZo_YaL2Xo"
      },
      "source": [
        "**7.  From array ‘D’ use NumPy 2-D slicing to extract below slice\n",
        "        [[ 0  2  4]\n",
        "         [10 12 14]]**\n"
      ]
    },
    {
      "cell_type": "code",
      "metadata": {
        "colab": {
          "base_uri": "https://localhost:8080/"
        },
        "id": "4buv1bSEMUzn",
        "outputId": "7ea26c44-fb77-4c8f-d89b-a8e36bda99fa"
      },
      "source": [
        "D = np.arange(0,20,1).reshape(4,5)\n",
        "print(D)\n",
        "print('\\nAfter slicing:\\n')\n",
        "print(D[::2,::2])\n",
        "\n"
      ],
      "execution_count": null,
      "outputs": [
        {
          "output_type": "stream",
          "text": [
            "[[ 0  1  2  3  4]\n",
            " [ 5  6  7  8  9]\n",
            " [10 11 12 13 14]\n",
            " [15 16 17 18 19]]\n",
            "\n",
            "After slicing:\n",
            "\n",
            "[[ 0  2  4]\n",
            " [10 12 14]]\n"
          ],
          "name": "stdout"
        }
      ]
    },
    {
      "cell_type": "markdown",
      "metadata": {
        "id": "SQtJJ9nbL8Yt"
      },
      "source": [
        "**8.  From array ‘D’ extract the corner elements using NumPy Indexing\n",
        "        [[ 0  4]\n",
        "         [15 19]]**"
      ]
    },
    {
      "cell_type": "code",
      "metadata": {
        "colab": {
          "base_uri": "https://localhost:8080/"
        },
        "id": "bc8cqjjKNxnn",
        "outputId": "59bf8d85-2b6d-43b2-fbfe-bc0c5a6aa95a"
      },
      "source": [
        "print('The corner elements of this array are:\\n')\n",
        "idx = np.ix_((0,-1), (0,-1))\n",
        "print(D[idx])\n"
      ],
      "execution_count": null,
      "outputs": [
        {
          "output_type": "stream",
          "text": [
            "The corner elements of this array are:\n",
            "\n",
            "[[ 0  4]\n",
            " [15 19]]\n"
          ],
          "name": "stdout"
        }
      ]
    },
    {
      "cell_type": "markdown",
      "metadata": {
        "id": "bkRwSzqsNvXU"
      },
      "source": [
        "**9. Modify the ‘D’ array to make center elements 0 i.e.**\n",
        " \n",
        " D = \n",
        " \n",
        "          [[ 0  1  2  3  4]          \n",
        "           [ 5  0  0  0  9]\n",
        "           [10  0  0  0  14]\n",
        "           [15 16 17 18 19]]\n"
      ]
    },
    {
      "cell_type": "code",
      "metadata": {
        "colab": {
          "base_uri": "https://localhost:8080/"
        },
        "id": "CfwSkCkZQQWZ",
        "outputId": "daf722db-cc3f-4933-ae34-c13d46d9d086"
      },
      "source": [
        "D[1:-1,1:-1] = 0\n",
        "print('Modified D =\\n', D)\n"
      ],
      "execution_count": null,
      "outputs": [
        {
          "output_type": "stream",
          "text": [
            "Modified D =\n",
            " [[ 0  1  2  3  4]\n",
            " [ 5  0  0  0  9]\n",
            " [10  0  0  0 14]\n",
            " [15 16 17 18 19]]\n"
          ],
          "name": "stdout"
        }
      ]
    },
    {
      "cell_type": "markdown",
      "metadata": {
        "id": "G6MI-YvhQI_8"
      },
      "source": [
        "**10. Initialize a 4 * 5 numpy array ‘E’ with random numbers. Now find the maximum number in all columns and its position. Find the mean and std of the matrix. Now multiply the matrix ‘E’ and matrix ‘D’.**"
      ]
    },
    {
      "cell_type": "code",
      "metadata": {
        "colab": {
          "base_uri": "https://localhost:8080/"
        },
        "id": "oVnrgMYVQkoQ",
        "outputId": "5fe3fa68-c57e-4391-f94f-f3aea538090c"
      },
      "source": [
        "np.random.seed(42)\n",
        "E = np.random.randint(1,30,size=(4,5))\n",
        "print('Matrix E =\\n')\n",
        "print(E)\n",
        "\n",
        "print('\\nMax value in each column of array E:\\n')\n",
        "print(np.max(E, axis=0))\n",
        "\n",
        "print('\\nMean of matrix E = ', np.mean(E))\n",
        "print('\\nMean of matrix E = ', np.std(E))\n",
        "\n"
      ],
      "execution_count": null,
      "outputs": [
        {
          "output_type": "stream",
          "text": [
            "Matrix E =\n",
            "\n",
            "[[ 7 20 29 15 11]\n",
            " [ 8 29 21  7 26]\n",
            " [19 23 11 11 24]\n",
            " [21  4  8 24  3]]\n",
            "\n",
            "Max value in each column of array E:\n",
            "\n",
            "[21 29 29 24 26]\n",
            "\n",
            "Mean of matrix E =  16.05\n",
            "\n",
            "Mean of matrix E =  8.273300429695515\n"
          ],
          "name": "stdout"
        }
      ]
    },
    {
      "cell_type": "markdown",
      "metadata": {
        "id": "Z2AYOTUXQiE6"
      },
      "source": [
        "**11. Load an image(sample.png provided) into numpy array. Commands to load an image to numpy array is ‘import cv2; img = cv2.imread('sample.jpg')’. Now extract a 100*100 matrix from the image and show it with matplotlib. Command to show an image:‘from matplotlib import pyplot as plt; plt.imshow(img)’**"
      ]
    },
    {
      "cell_type": "code",
      "metadata": {
        "id": "EBjrwCxk3eB1",
        "colab": {
          "base_uri": "https://localhost:8080/"
        },
        "outputId": "35efd125-6945-42c0-f992-7d99a8a3b0e9"
      },
      "source": [
        "!wget https://www.comp.nus.edu.sg/~kai422/CS5242/sample.jpg"
      ],
      "execution_count": null,
      "outputs": [
        {
          "output_type": "stream",
          "text": [
            "--2021-01-16 10:04:35--  https://www.comp.nus.edu.sg/~kai422/CS5242/sample.jpg\n",
            "Resolving www.comp.nus.edu.sg (www.comp.nus.edu.sg)... 45.60.31.225\n",
            "Connecting to www.comp.nus.edu.sg (www.comp.nus.edu.sg)|45.60.31.225|:443... connected.\n",
            "HTTP request sent, awaiting response... 200 OK\n",
            "Length: 51627 (50K) [image/jpeg]\n",
            "Saving to: ‘sample.jpg’\n",
            "\n",
            "sample.jpg          100%[===================>]  50.42K  --.-KB/s    in 0.01s   \n",
            "\n",
            "2021-01-16 10:04:37 (3.35 MB/s) - ‘sample.jpg’ saved [51627/51627]\n",
            "\n"
          ],
          "name": "stdout"
        }
      ]
    },
    {
      "cell_type": "code",
      "metadata": {
        "colab": {
          "base_uri": "https://localhost:8080/",
          "height": 286
        },
        "id": "qHuhFsTEUfdh",
        "outputId": "e58451ba-de3a-406d-b66c-658b9db93f05"
      },
      "source": [
        "import cv2\n",
        "\n",
        "img = cv2.imread('sample.jpg')\n",
        "img[:100,:100]\n",
        "plt.imshow(img)\n",
        "\n",
        "\n",
        "\n"
      ],
      "execution_count": null,
      "outputs": [
        {
          "output_type": "execute_result",
          "data": {
            "text/plain": [
              "<matplotlib.image.AxesImage at 0x7f289fa47390>"
            ]
          },
          "metadata": {
            "tags": []
          },
          "execution_count": 58
        },
        {
          "output_type": "display_data",
          "data": {
            "image/png": "[encoded data removed]",
            "text/plain": [
              "<Figure size 432x288 with 1 Axes>"
            ]
          },
          "metadata": {
            "tags": [],
            "needs_background": "light"
          }
        }
      ]
    },
    {
      "cell_type": "markdown",
      "metadata": {
        "id": "FV09_vuQTmLU"
      },
      "source": [
        "### Pandas"
      ]
    },
    {
      "cell_type": "markdown",
      "metadata": {
        "id": "IpX5uwKVpHRC"
      },
      "source": [
        "- There are two central data structures of Pandas are Series and DataFrame\n",
        "\n",
        "- Foundation of a DataFrame is a Series. The docstring of DataFrame defines a\n",
        "DataFrame as “Can be thought of as a dict-like container for\n",
        "Series objects”\n",
        "\n",
        "- So what is a series? A Pandas series can be conceptualized in two ways.\n",
        "\n",
        "  - It can be envisioned as a single column of tabular data.\n",
        "\n",
        "  - It can also be envisioned as a single row of tabular data\n",
        "\n",
        "Let’s assume there is a database table called accounting which stores revenue and expenses across different years.\n",
        "\n",
        "| year | revenue | expense |\n",
        "| :--: | :-----: | :-----: |\n",
        "| 2017 | 1000    | 800     |\n",
        "| 2018 | 1200    | 900     |\n",
        "| 2019 | 1500    | 1100    |\n",
        "\n",
        "**1.Create the table above with Pandas dataframe object**"
      ]
    },
    {
      "cell_type": "code",
      "metadata": {
        "colab": {
          "base_uri": "https://localhost:8080/"
        },
        "id": "CfFquWEaVTA7",
        "outputId": "f28c2fb1-eabc-4f9b-f1ef-017e7d25fc9e"
      },
      "source": [
        "year = [2017,2018,2019]\n",
        "revenue = [1000, 1200, 1500]\n",
        "expense = [800, 900, 1100]\n",
        "\n",
        "df = pd.DataFrame({'year':year,\n",
        "                   'revenue': revenue,\n",
        "                   'expense': expense})\n",
        "print(df)\n",
        "\n",
        "\n",
        "\n",
        "\n",
        "\n"
      ],
      "execution_count": null,
      "outputs": [
        {
          "output_type": "stream",
          "text": [
            "   year  revenue  expense\n",
            "0  2017     1000      800\n",
            "1  2018     1200      900\n",
            "2  2019     1500     1100\n"
          ],
          "name": "stdout"
        }
      ]
    },
    {
      "cell_type": "markdown",
      "metadata": {
        "id": "qoJiToubTzxz"
      },
      "source": [
        "**2.Modify the above table to add  ‘savings’ and ‘persons’ as shown below.\n",
        "‘saving’ = ‘revenue’ - ‘expenses’**\n"
      ]
    },
    {
      "cell_type": "code",
      "metadata": {
        "colab": {
          "base_uri": "https://localhost:8080/"
        },
        "id": "zYOQcI_zV6HD",
        "outputId": "89144d72-4a1d-46e2-cf28-f014333972d8"
      },
      "source": [
        "df['savings'] = df['revenue'] - df['expense']\n",
        "df['persons'] = ['abc', 'def', 'gh1']\n",
        "print('New modified data table\\n')\n",
        "print(df)\n",
        "\n"
      ],
      "execution_count": null,
      "outputs": [
        {
          "output_type": "stream",
          "text": [
            "New modified data table\n",
            "\n",
            "   year  revenue  expense  savings persons\n",
            "0  2017     1000      800      200     abc\n",
            "1  2018     1200      900      300     def\n",
            "2  2019     1500     1100      400     gh1\n"
          ],
          "name": "stdout"
        }
      ]
    },
    {
      "cell_type": "markdown",
      "metadata": {
        "id": "9_LTzfEbUUiA"
      },
      "source": [
        "**3.Load a CSV file (tips.csv provided) to load a CSV file into a pandas dataframe.\n",
        "Now display .head() of dataframe. Then display .description() of dataframe. Name this dataframe as ‘tips_table’. Sample .head() of tips table.**\n"
      ]
    },
    {
      "cell_type": "code",
      "metadata": {
        "id": "2vkgUkq-CG7j",
        "colab": {
          "base_uri": "https://localhost:8080/"
        },
        "outputId": "a9a8e2fe-a974-48ff-82b1-847205359754"
      },
      "source": [
        "!wget https://www.comp.nus.edu.sg/~kai422/CS5242/tips.csv"
      ],
      "execution_count": 2,
      "outputs": [
        {
          "output_type": "stream",
          "text": [
            "--2021-01-16 16:19:43--  https://www.comp.nus.edu.sg/~kai422/CS5242/tips.csv\n",
            "Resolving www.comp.nus.edu.sg (www.comp.nus.edu.sg)... 45.60.31.225\n",
            "Connecting to www.comp.nus.edu.sg (www.comp.nus.edu.sg)|45.60.31.225|:443... connected.\n",
            "HTTP request sent, awaiting response... 200 OK\n",
            "Length: 9729 (9.5K) [text/csv]\n",
            "Saving to: ‘tips.csv’\n",
            "\n",
            "tips.csv            100%[===================>]   9.50K  --.-KB/s    in 0.01s   \n",
            "\n",
            "2021-01-16 16:19:44 (987 KB/s) - ‘tips.csv’ saved [9729/9729]\n",
            "\n"
          ],
          "name": "stdout"
        }
      ]
    },
    {
      "cell_type": "code",
      "metadata": {
        "colab": {
          "base_uri": "https://localhost:8080/",
          "height": 195
        },
        "id": "BN779NqALA01",
        "outputId": "f372331e-5fbc-428d-bb3d-11931940fd9e"
      },
      "source": [
        "import pandas as pd\n",
        "df = pd.read_csv('tips.csv')\n",
        "df.head()\n"
      ],
      "execution_count": 5,
      "outputs": [
        {
          "output_type": "execute_result",
          "data": {
            "text/html": [
              "<div>\n",
              "<style scoped>\n",
              "    .dataframe tbody tr th:only-of-type {\n",
              "        vertical-align: middle;\n",
              "    }\n",
              "\n",
              "    .dataframe tbody tr th {\n",
              "        vertical-align: top;\n",
              "    }\n",
              "\n",
              "    .dataframe thead th {\n",
              "        text-align: right;\n",
              "    }\n",
              "</style>\n",
              "<table border=\"1\" class=\"dataframe\">\n",
              "  <thead>\n",
              "    <tr style=\"text-align: right;\">\n",
              "      <th></th>\n",
              "      <th>total_bill</th>\n",
              "      <th>tip</th>\n",
              "      <th>sex</th>\n",
              "      <th>smoker</th>\n",
              "      <th>day</th>\n",
              "      <th>time</th>\n",
              "      <th>size</th>\n",
              "    </tr>\n",
              "  </thead>\n",
              "  <tbody>\n",
              "    <tr>\n",
              "      <th>0</th>\n",
              "      <td>16.99</td>\n",
              "      <td>1.01</td>\n",
              "      <td>Female</td>\n",
              "      <td>No</td>\n",
              "      <td>Sun</td>\n",
              "      <td>Dinner</td>\n",
              "      <td>2</td>\n",
              "    </tr>\n",
              "    <tr>\n",
              "      <th>1</th>\n",
              "      <td>10.34</td>\n",
              "      <td>1.66</td>\n",
              "      <td>Male</td>\n",
              "      <td>No</td>\n",
              "      <td>Sun</td>\n",
              "      <td>Dinner</td>\n",
              "      <td>3</td>\n",
              "    </tr>\n",
              "    <tr>\n",
              "      <th>2</th>\n",
              "      <td>21.01</td>\n",
              "      <td>3.50</td>\n",
              "      <td>Male</td>\n",
              "      <td>No</td>\n",
              "      <td>Sun</td>\n",
              "      <td>Dinner</td>\n",
              "      <td>3</td>\n",
              "    </tr>\n",
              "    <tr>\n",
              "      <th>3</th>\n",
              "      <td>23.68</td>\n",
              "      <td>3.31</td>\n",
              "      <td>Male</td>\n",
              "      <td>No</td>\n",
              "      <td>Sun</td>\n",
              "      <td>Dinner</td>\n",
              "      <td>2</td>\n",
              "    </tr>\n",
              "    <tr>\n",
              "      <th>4</th>\n",
              "      <td>24.59</td>\n",
              "      <td>3.61</td>\n",
              "      <td>Female</td>\n",
              "      <td>No</td>\n",
              "      <td>Sun</td>\n",
              "      <td>Dinner</td>\n",
              "      <td>4</td>\n",
              "    </tr>\n",
              "  </tbody>\n",
              "</table>\n",
              "</div>"
            ],
            "text/plain": [
              "   total_bill   tip     sex smoker  day    time  size\n",
              "0       16.99  1.01  Female     No  Sun  Dinner     2\n",
              "1       10.34  1.66    Male     No  Sun  Dinner     3\n",
              "2       21.01  3.50    Male     No  Sun  Dinner     3\n",
              "3       23.68  3.31    Male     No  Sun  Dinner     2\n",
              "4       24.59  3.61  Female     No  Sun  Dinner     4"
            ]
          },
          "metadata": {
            "tags": []
          },
          "execution_count": 5
        }
      ]
    },
    {
      "cell_type": "code",
      "metadata": {
        "colab": {
          "base_uri": "https://localhost:8080/"
        },
        "id": "T8hTI9SlALzb",
        "outputId": "eb5b6c71-daaa-4868-f4a8-a15c056db16d"
      },
      "source": [
        "df['time'].value_counts()"
      ],
      "execution_count": 7,
      "outputs": [
        {
          "output_type": "execute_result",
          "data": {
            "text/plain": [
              "Dinner    176\n",
              "Lunch      68\n",
              "Name: time, dtype: int64"
            ]
          },
          "metadata": {
            "tags": []
          },
          "execution_count": 7
        }
      ]
    },
    {
      "cell_type": "markdown",
      "metadata": {
        "id": "0AyIlH4QwYX2"
      },
      "source": [
        "### MATPLOTLIB and SEABORN"
      ]
    },
    {
      "cell_type": "markdown",
      "metadata": {
        "id": "oIPgSZVhqhQ5"
      },
      "source": [
        "- Seaborn is built on top of Python’s core visualization library Matplotlib.\n",
        "\n",
        "- It is meant to serve as a complement, and not a replacement.\n",
        "\n",
        "- Seaborn works well with NumPy and Pandas data structures\n",
        "\n",
        "**Write a program to draw a scatter_plot with sb.scatterplot taking ‘total_bill’ as x-axis,‘tip’ as y-axis and hue as ‘time’**"
      ]
    },
    {
      "cell_type": "code",
      "metadata": {
        "colab": {
          "base_uri": "https://localhost:8080/",
          "height": 350
        },
        "id": "OkgwfofgUtnc",
        "outputId": "700c8c18-1ec3-4171-f7da-7dc30e350e1c"
      },
      "source": [
        "import seaborn as sb\n",
        "sb.scatterplot(df['total_bill'], df['tip'], hue=df['time'])"
      ],
      "execution_count": 11,
      "outputs": [
        {
          "output_type": "stream",
          "text": [
            "/usr/local/lib/python3.6/dist-packages/seaborn/_decorators.py:43: FutureWarning: Pass the following variables as keyword args: x, y. From version 0.12, the only valid positional argument will be `data`, and passing other arguments without an explicit keyword will result in an error or misinterpretation.\n",
            "  FutureWarning\n"
          ],
          "name": "stderr"
        },
        {
          "output_type": "execute_result",
          "data": {
            "text/plain": [
              "<matplotlib.axes._subplots.AxesSubplot at 0x7ff7b6ab0c18>"
            ]
          },
          "metadata": {
            "tags": []
          },
          "execution_count": 11
        },
        {
          "output_type": "display_data",
          "data": {
            "image/png": "[encoded data removed]",
            "text/plain": [
              "<Figure size 432x288 with 1 Axes>"
            ]
          },
          "metadata": {
            "tags": [],
            "needs_background": "light"
          }
        }
      ]
    },
    {
      "cell_type": "markdown",
      "metadata": {
        "id": "VIMKTdliVMIL"
      },
      "source": [
        "**Write a program to plot a pie chart of given ‘days’ data in ‘tips_table’ table.**\n"
      ]
    },
    {
      "cell_type": "code",
      "metadata": {
        "colab": {
          "base_uri": "https://localhost:8080/",
          "height": 382
        },
        "id": "tSob3JtuU6Ti",
        "outputId": "8dc8bc23-e294-428c-f658-8979b12c83d5"
      },
      "source": [
        "tips_days = df.groupby(['day'])['tip'].sum()\n",
        "plt.pie(x=tips_days, labels=tips_days.keys())\n",
        "\n"
      ],
      "execution_count": null,
      "outputs": [
        {
          "output_type": "execute_result",
          "data": {
            "text/plain": [
              "([<matplotlib.patches.Wedge at 0x7f288dfa7a90>,\n",
              "  <matplotlib.patches.Wedge at 0x7f288dfa7fd0>,\n",
              "  <matplotlib.patches.Wedge at 0x7f288dfb6518>,\n",
              "  <matplotlib.patches.Wedge at 0x7f288dfb6a20>],\n",
              " [Text(1.0727306693142526, 0.24341099217700865, 'Fri'),\n",
              "  Text(0.0069438104089625365, 1.09997808318939, 'Sat'),\n",
              "  Text(-0.9057073356932329, -0.62425493355797, 'Sun'),\n",
              "  Text(0.8138842536869884, -0.739994879441996, 'Thur')])"
            ]
          },
          "metadata": {
            "tags": []
          },
          "execution_count": 66
        },
        {
          "output_type": "display_data",
          "data": {
            "image/png": "[encoded data removed]",
            "text/plain": [
              "<Figure size 432x288 with 1 Axes>"
            ]
          },
          "metadata": {
            "tags": []
          }
        }
      ]
    },
    {
      "cell_type": "markdown",
      "metadata": {
        "id": "odQSOTmFX8OK"
      },
      "source": [
        "**Plot a bar plot with sb.barplot taking ‘sex’ in x-axis and ‘total_bill’ in y-axis**"
      ]
    },
    {
      "cell_type": "code",
      "metadata": {
        "colab": {
          "base_uri": "https://localhost:8080/",
          "height": 296
        },
        "id": "OqnUfnIoVX92",
        "outputId": "012bfdba-e449-443a-f8bb-b4cdb45ceacd"
      },
      "source": [
        "sb.barplot(x=df['sex'],y=df['total_bill'])"
      ],
      "execution_count": null,
      "outputs": [
        {
          "output_type": "execute_result",
          "data": {
            "text/plain": [
              "<matplotlib.axes._subplots.AxesSubplot at 0x7f288e1f2208>"
            ]
          },
          "metadata": {
            "tags": []
          },
          "execution_count": 64
        },
        {
          "output_type": "display_data",
          "data": {
            "image/png": "[encoded data removed]",
            "text/plain": [
              "<Figure size 432x288 with 1 Axes>"
            ]
          },
          "metadata": {
            "tags": [],
            "needs_background": "light"
          }
        }
      ]
    },
    {
      "cell_type": "markdown",
      "metadata": {
        "id": "FZCBQrDUYvaR"
      },
      "source": [
        "**Plot the univariate distribution of various data in the ‘tips_table’ table with sb.distplot.**"
      ]
    },
    {
      "cell_type": "code",
      "metadata": {
        "colab": {
          "base_uri": "https://localhost:8080/",
          "height": 353
        },
        "id": "NTEimxCqYIoc",
        "outputId": "90ee10c6-96b7-43a9-92cb-9dd89d34eea7"
      },
      "source": [
        "sb.distplot(df['total_bill'])"
      ],
      "execution_count": null,
      "outputs": [
        {
          "output_type": "stream",
          "text": [
            "/usr/local/lib/python3.6/dist-packages/seaborn/distributions.py:2557: FutureWarning: `distplot` is a deprecated function and will be removed in a future version. Please adapt your code to use either `displot` (a figure-level function with similar flexibility) or `histplot` (an axes-level function for histograms).\n",
            "  warnings.warn(msg, FutureWarning)\n"
          ],
          "name": "stderr"
        },
        {
          "output_type": "execute_result",
          "data": {
            "text/plain": [
              "<matplotlib.axes._subplots.AxesSubplot at 0x7f288dfce278>"
            ]
          },
          "metadata": {
            "tags": []
          },
          "execution_count": 67
        },
        {
          "output_type": "display_data",
          "data": {
            "image/png": "[encoded data removed]",
            "text/plain": [
              "<Figure size 432x288 with 1 Axes>"
            ]
          },
          "metadata": {
            "tags": [],
            "needs_background": "light"
          }
        }
      ]
    },
    {
      "cell_type": "markdown",
      "metadata": {
        "id": "PX8jRmaLYrGY"
      },
      "source": [
        "**Plot the bivariate  distribution of data ‘total_bill’ vs ‘tip’ with sb.jointplot()**"
      ]
    },
    {
      "cell_type": "code",
      "metadata": {
        "colab": {
          "base_uri": "https://localhost:8080/",
          "height": 511
        },
        "id": "SkRVTWC7YRgZ",
        "outputId": "3cf6ff78-da93-4cee-87d2-1ffa91e3c856"
      },
      "source": [
        "sb.jointplot(df['total_bill'], df['tip'])"
      ],
      "execution_count": null,
      "outputs": [
        {
          "output_type": "stream",
          "text": [
            "/usr/local/lib/python3.6/dist-packages/seaborn/_decorators.py:43: FutureWarning: Pass the following variables as keyword args: x, y. From version 0.12, the only valid positional argument will be `data`, and passing other arguments without an explicit keyword will result in an error or misinterpretation.\n",
            "  FutureWarning\n"
          ],
          "name": "stderr"
        },
        {
          "output_type": "execute_result",
          "data": {
            "text/plain": [
              "<seaborn.axisgrid.JointGrid at 0x7f288e2001d0>"
            ]
          },
          "metadata": {
            "tags": []
          },
          "execution_count": 68
        },
        {
          "output_type": "display_data",
          "data": {
            "image/png": "[encoded data removed]",
            "text/plain": [
              "<Figure size 432x432 with 3 Axes>"
            ]
          },
          "metadata": {
            "tags": [],
            "needs_background": "light"
          }
        }
      ]
    },
    {
      "cell_type": "markdown",
      "metadata": {
        "id": "tUizza6aZJQo"
      },
      "source": [
        "**To analyse relation between each and every data of the table to classify ‘time’ class try using\n",
        "sb.pairplot(tips_table, hue=’time’)**"
      ]
    },
    {
      "cell_type": "code",
      "metadata": {
        "colab": {
          "base_uri": "https://localhost:8080/",
          "height": 567
        },
        "id": "vA9BYM9aY-f3",
        "outputId": "6e16cbd8-a5c3-4b00-cd06-03699e9966c9"
      },
      "source": [
        "sb.pairplot(df, hue='time')\r\n"
      ],
      "execution_count": 14,
      "outputs": [
        {
          "output_type": "execute_result",
          "data": {
            "text/plain": [
              "<seaborn.axisgrid.PairGrid at 0x7ff7b5778b38>"
            ]
          },
          "metadata": {
            "tags": []
          },
          "execution_count": 14
        },
        {
          "output_type": "display_data",
          "data": {
            "image/png": "[encoded data removed]",
            "text/plain": [
              "<Figure size 609.625x540 with 12 Axes>"
            ]
          },
          "metadata": {
            "tags": [],
            "needs_background": "light"
          }
        }
      ]
    },
    {
      "cell_type": "markdown",
      "metadata": {
        "id": "6l6wFzfHZv0F"
      },
      "source": [
        "**To analyse the relation of categorical data try to plot using sb.stripplot with ‘day’ as x, and ‘total_bill’ as y**"
      ]
    },
    {
      "cell_type": "code",
      "metadata": {
        "colab": {
          "base_uri": "https://localhost:8080/",
          "height": 296
        },
        "id": "GXALrCGtZR11",
        "outputId": "55abb3f6-17b3-4567-c029-024aceeeec2d"
      },
      "source": [
        "sb.stripplot(x=df['day'], y=df['total_bill'])"
      ],
      "execution_count": 15,
      "outputs": [
        {
          "output_type": "execute_result",
          "data": {
            "text/plain": [
              "<matplotlib.axes._subplots.AxesSubplot at 0x7ff7ac7cd9b0>"
            ]
          },
          "metadata": {
            "tags": []
          },
          "execution_count": 15
        },
        {
          "output_type": "display_data",
          "data": {
            "image/png": "[encoded data removed]",
            "text/plain": [
              "<Figure size 432x288 with 1 Axes>"
            ]
          },
          "metadata": {
            "tags": [],
            "needs_background": "light"
          }
        }
      ]
    },
    {
      "cell_type": "markdown",
      "metadata": {
        "id": "NQPEquNwnR1_"
      },
      "source": [
        "## PYTORCH TENSORS"
      ]
    },
    {
      "cell_type": "markdown",
      "metadata": {
        "id": "lR05D7BXo9UV"
      },
      "source": [
        "WHAT IS PYTORCH?\n",
        "It’s a Python-based scientific computing package targeted at two sets of audiences:\n",
        "\n",
        "- A replacement for NumPy to use the power of GPUs\n",
        "- A deep learning research platform that provides maximum flexibility and speed\n",
        "\n",
        "**Tensors**\n",
        "Tensors are similar to NumPy’s ndarrays, with the addition being that Tensors can also be used on a GPU to accelerate computing.\n"
      ]
    },
    {
      "cell_type": "code",
      "metadata": {
        "id": "KuHI9cGDvNaP"
      },
      "source": [
        "# Run some setup code for this notebook.\n",
        "\n",
        "import random\n",
        "import numpy as np\n",
        "import matplotlib.pyplot as plt\n",
        "\n",
        "# This is a bit of magic to make matplotlib figures appear inline in the notebook\n",
        "# rather than in a new window.\n",
        "%matplotlib inline\n",
        "plt.rcParams['figure.figsize'] = (10.0, 8.0) # set default size of plots\n",
        "plt.rcParams['image.interpolation'] = 'nearest'\n",
        "plt.rcParams['image.cmap'] = 'gray'\n",
        "\n",
        "# Some more magic so that the notebook will reload external python modules;\n",
        "# see http://stackoverflow.com/questions/1907993/autoreload-of-modules-in-ipython\n",
        "%load_ext autoreload\n",
        "%autoreload 2\n",
        "import torch\n",
        "import torch.nn as nn"
      ],
      "execution_count": 16,
      "outputs": []
    },
    {
      "cell_type": "markdown",
      "metadata": {
        "id": "eXVqMj2SUzA6"
      },
      "source": [
        "Q1. Create a tensor “a” initialized from the list [2, 5, 8, 9]. Now print attributes of tensor  “a” i.e shape, dtype, device. Convert it to Numpy array “e”. \n"
      ]
    },
    {
      "cell_type": "code",
      "metadata": {
        "id": "cLOvK7mapC0H",
        "colab": {
          "base_uri": "https://localhost:8080/"
        },
        "outputId": "a49dd779-f299-4345-8e50-76bf2caea32d"
      },
      "source": [
        "a = torch.Tensor([2, 5, 8, 9])\n",
        "print(a)\n"
      ],
      "execution_count": 34,
      "outputs": [
        {
          "output_type": "stream",
          "text": [
            "tensor([2., 5., 8., 9.])\n"
          ],
          "name": "stdout"
        }
      ]
    },
    {
      "cell_type": "code",
      "metadata": {
        "id": "mCLUVWarsxJa",
        "colab": {
          "base_uri": "https://localhost:8080/"
        },
        "outputId": "4e992d19-f723-41ba-cf01-c64dd52367d2"
      },
      "source": [
        "print('\\n', a.shape)\n",
        "print('\\n', a.dtype)\n",
        "print('\\n', a.device)\n",
        "e = a.numpy()\n",
        "print('\\n', e)\n",
        "\n",
        "\n",
        "\n"
      ],
      "execution_count": 35,
      "outputs": [
        {
          "output_type": "stream",
          "text": [
            "\n",
            " torch.Size([4])\n",
            "\n",
            " torch.float32\n",
            "\n",
            " cpu\n",
            "\n",
            " [2. 5. 8. 9.]\n"
          ],
          "name": "stdout"
        }
      ]
    },
    {
      "cell_type": "markdown",
      "metadata": {
        "id": "iUDKczOZVJbN"
      },
      "source": [
        "Q2. Create a tensor “b” of size 4 * 5 initialized with all 0’s. Add 2 to “b”. Create another tensor “c” of the exact same as “b” initialized with all ones. Now create tensor “d = b + c”."
      ]
    },
    {
      "cell_type": "code",
      "metadata": {
        "id": "Z1VS_ed6s8k7",
        "colab": {
          "base_uri": "https://localhost:8080/"
        },
        "outputId": "8f6cb779-6472-4ac5-f877-bb474738ed47"
      },
      "source": [
        "b = torch.zeros((4,5))\n",
        "print('\\nShape of b  ', b.shape)\n",
        "print('\\n',b)\n",
        "\n",
        "b = b + 2\n",
        "print('\\nb:',b)\n",
        "\n",
        "c = torch.ones((4,5))\n",
        "print('\\nc:',c)\n",
        "\n",
        "d = b + c\n",
        "print('\\nd:',d)\n",
        "\n",
        "\n"
      ],
      "execution_count": 36,
      "outputs": [
        {
          "output_type": "stream",
          "text": [
            "\n",
            "Shape of b   torch.Size([4, 5])\n",
            "\n",
            " tensor([[0., 0., 0., 0., 0.],\n",
            "        [0., 0., 0., 0., 0.],\n",
            "        [0., 0., 0., 0., 0.],\n",
            "        [0., 0., 0., 0., 0.]])\n",
            "\n",
            "b: tensor([[2., 2., 2., 2., 2.],\n",
            "        [2., 2., 2., 2., 2.],\n",
            "        [2., 2., 2., 2., 2.],\n",
            "        [2., 2., 2., 2., 2.]])\n",
            "\n",
            "c: tensor([[1., 1., 1., 1., 1.],\n",
            "        [1., 1., 1., 1., 1.],\n",
            "        [1., 1., 1., 1., 1.],\n",
            "        [1., 1., 1., 1., 1.]])\n",
            "\n",
            "d: tensor([[3., 3., 3., 3., 3.],\n",
            "        [3., 3., 3., 3., 3.],\n",
            "        [3., 3., 3., 3., 3.],\n",
            "        [3., 3., 3., 3., 3.]])\n"
          ],
          "name": "stdout"
        }
      ]
    },
    {
      "cell_type": "code",
      "metadata": {
        "id": "artoyXDCuLIh",
        "colab": {
          "base_uri": "https://localhost:8080/",
          "height": 185
        },
        "outputId": "394b76c9-9ae2-4e0e-c9fd-851fc3216119"
      },
      "source": [
        "\n",
        "\n",
        "\n",
        "\n"
      ],
      "execution_count": null,
      "outputs": [
        {
          "output_type": "stream",
          "text": [
            "Print actual c \n",
            " tensor([[1., 1., 1., 1., 1.],\n",
            "        [1., 1., 1., 1., 1.],\n",
            "        [1., 1., 1., 1., 1.],\n",
            "        [1., 1., 1., 1., 1.]])\n",
            "Shape of d  torch.Size([4, 5]) Actual d = \n",
            " tensor([[3., 3., 3., 3., 3.],\n",
            "        [3., 3., 3., 3., 3.],\n",
            "        [3., 3., 3., 3., 3.],\n",
            "        [3., 3., 3., 3., 3.]])\n"
          ],
          "name": "stdout"
        }
      ]
    },
    {
      "cell_type": "markdown",
      "metadata": {
        "id": "pa2A2x8XVSa0"
      },
      "source": [
        "Q3. Create a Numpy array “f” of size 5 * 4 initialized with random numbers. Convert it to tensor “g”. Create “h” similar to “f” with random numbers. Transpose “h” and do matrix multiplication of “h” and “f”."
      ]
    },
    {
      "cell_type": "code",
      "metadata": {
        "id": "ZRv-YJcHqyv2",
        "colab": {
          "base_uri": "https://localhost:8080/"
        },
        "outputId": "cc7e9cb8-6e9b-47d0-b087-f209276e681a"
      },
      "source": [
        "f = np.random.rand(5,4)\n",
        "print('\\nShape of f =', f.shape)\n",
        "print('\\nPrinting array f\\n', f)\n",
        "\n",
        "g = torch.Tensor(f)\n",
        "print('\\nPrinting array g\\n', g)\n",
        "\n",
        "h = np.random.rand(5,4)\n",
        "h = h.transpose()\n",
        "print('\\nShape of h =', h.shape)\n",
        "print('\\nPrinting array f\\n', h)\n",
        "\n",
        "print('\\nMultiplying g and h:\\n')\n",
        "print(torch.mm(g,torch.Tensor(h)))\n",
        "\n",
        "\n",
        "\n",
        "\n",
        "\n",
        "\n"
      ],
      "execution_count": 38,
      "outputs": [
        {
          "output_type": "stream",
          "text": [
            "\n",
            "Shape of f = (5, 4)\n",
            "\n",
            "Printing array f\n",
            " [[0.43263982 0.53839844 0.35271419 0.85781952]\n",
            " [0.90046349 0.7750272  0.77241098 0.42067282]\n",
            " [0.01732996 0.95033385 0.33760516 0.7907275 ]\n",
            " [0.52766936 0.17741672 0.1480889  0.37846904]\n",
            " [0.98327012 0.40781256 0.35769784 0.36697879]]\n",
            "\n",
            "Printing array g\n",
            " tensor([[0.4326, 0.5384, 0.3527, 0.8578],\n",
            "        [0.9005, 0.7750, 0.7724, 0.4207],\n",
            "        [0.0173, 0.9503, 0.3376, 0.7907],\n",
            "        [0.5277, 0.1774, 0.1481, 0.3785],\n",
            "        [0.9833, 0.4078, 0.3577, 0.3670]])\n",
            "\n",
            "Shape of h = (4, 5)\n",
            "\n",
            "Printing array f\n",
            " [[0.70040477 0.66577992 0.22482602 0.08447417 0.82767202]\n",
            " [0.69615855 0.21912701 0.89597661 0.178045   0.62253627]\n",
            " [0.37900748 0.88067719 0.39956746 0.44283831 0.53937018]\n",
            " [0.33954236 0.43214086 0.78741741 0.92917503 0.81638479]]\n",
            "\n",
            "Multiplying g and h:\n",
            "\n",
            "tensor([[1.1028, 1.0873, 1.3961, 1.0857, 1.5838],\n",
            "        [1.6058, 1.6314, 1.5367, 0.9470, 1.9878],\n",
            "        [1.0702, 0.8588, 1.6129, 1.0549, 1.4336],\n",
            "        [0.6777, 0.6842, 0.6348, 0.4934, 0.9360],\n",
            "        [1.2328, 1.2176, 1.0183, 0.6551, 1.5602]])\n"
          ],
          "name": "stdout"
        }
      ]
    },
    {
      "cell_type": "markdown",
      "metadata": {
        "id": "3OGOS7DnzlT3"
      },
      "source": [
        "Q4. Deep Learning is based on artificial neural networks which are typically built with units called \"neurons”. Each neuron has some number of weighted inputs. These weighted inputs are summed together then passed through an activation function to get the unit's output.\n",
        "\t\n",
        "1. Define a 1-D tensor “X” containing numbers from 1 to 5.\n",
        "2. Define a 1-D tensor “W1” containing 5 random weights.\n",
        "3. Define a tensor “b” contained 1 random weight.\n",
        "4. Compute tensor “H = X * W1 + b” using pytorch. (Note the shape of tensors)\n",
        "5. Apply sigmoid activation function to calculate the “Y”, such that “Y = 1 / (1 + exp(-H))”\n",
        "\n"
      ]
    },
    {
      "cell_type": "code",
      "metadata": {
        "id": "oBCEPd-kuN7m",
        "colab": {
          "base_uri": "https://localhost:8080/",
          "height": 34
        },
        "outputId": "b04612f1-022e-44dd-b381-11a3c7c87584"
      },
      "source": [
        "a.to(torch.device('cpu:0'))"
      ],
      "execution_count": null,
      "outputs": [
        {
          "output_type": "execute_result",
          "data": {
            "text/plain": [
              "tensor([2, 5, 8, 9])"
            ]
          },
          "metadata": {
            "tags": []
          },
          "execution_count": 7
        }
      ]
    },
    {
      "cell_type": "code",
      "metadata": {
        "id": "2MSwTlOB7oub",
        "colab": {
          "base_uri": "https://localhost:8080/"
        },
        "outputId": "2204c7ca-c395-4b74-a3fb-5f00989133fc"
      },
      "source": [
        "X = torch.arange(1,6,step=1)\n",
        "print('Tensor X =', X)\n",
        "print('Shape of X: ', X.shape)\n",
        "\n",
        "W1 = torch.rand(5)\n",
        "print('\\nTensor W1 =', W1)\n",
        "print('Shape of W1: ', W1.shape)\n",
        "\n",
        "b = torch.rand(1)\n",
        "print('\\nTensor b =', b)\n",
        "print('Shape of b: ', b.shape)\n",
        "\n",
        "H = torch.matmul(X.type(torch.DoubleTensor),W1.type(torch.DoubleTensor)) + b\n",
        "print('\\nTensor H =', H)\n",
        "\n",
        "m = nn.Sigmoid()\n",
        "Y = m(H)\n",
        "print('\\nY:', Y)\n"
      ],
      "execution_count": 60,
      "outputs": [
        {
          "output_type": "stream",
          "text": [
            "Tensor X = tensor([1, 2, 3, 4, 5])\n",
            "Shape of X:  torch.Size([5])\n",
            "\n",
            "Tensor W1 = tensor([0.8571, 0.1588, 0.6512, 0.6713, 0.1093])\n",
            "Shape of W1:  torch.Size([5])\n",
            "\n",
            "Tensor b = tensor([0.2745])\n",
            "Shape of b:  torch.Size([1])\n",
            "\n",
            "Tensor H = tensor([6.6343])\n",
            "\n",
            "Y: tensor([0.9987])\n"
          ],
          "name": "stdout"
        }
      ]
    },
    {
      "cell_type": "markdown",
      "metadata": {
        "id": "4NeFRFfJtVAZ"
      },
      "source": [
        "**You have just coded to write a neuron !!**"
      ]
    },
    {
      "cell_type": "markdown",
      "metadata": {
        "id": "PZijA-qu8vqz"
      },
      "source": [
        "Q5. Adding multiple neurons in a single layer (3 Hidden Units)\n",
        "1. Define 2-D tensor “W2” containing random numbers of shape 5 * 3\n",
        "2. Define 1-D tensor of “b2” containing 3 random numbers.\n",
        "3. Compute tensor H2 = [h1 h2 h3] using the “H2 = X * W2 + b2” using pytorch\n",
        "4. Apply sigmoid activation function to calculate “Y2 = [y1 y2 y3]” such that “Y = 1 / (1 + exp(-H2)”\n"
      ]
    },
    {
      "cell_type": "code",
      "metadata": {
        "id": "xExsfWQQK6Yw",
        "colab": {
          "base_uri": "https://localhost:8080/"
        },
        "outputId": "77aacf1b-470e-4d95-9131-38dc70d82c2c"
      },
      "source": [
        "W2 = torch.rand(5,3)\n",
        "print('\\nTensor W2 =', W2)\n",
        "print('Shape of W2: ', W2.shape)\n",
        "\n",
        "b2 = torch.rand(3)\n",
        "print('\\nTensor b2 =', b2)\n",
        "print('Shape of b2: ', b2.shape)\n",
        "\n",
        "H2 = torch.matmul(X.type(torch.DoubleTensor),W2.type(torch.DoubleTensor)) + b2\n",
        "print('\\nTensor H2 =', H2)\n",
        "\n",
        "m = nn.Sigmoid()\n",
        "Y2 = m(H2)\n",
        "print('\\nY2:', Y2)\n"
      ],
      "execution_count": 67,
      "outputs": [
        {
          "output_type": "stream",
          "text": [
            "\n",
            "Tensor W2 = tensor([[0.3431, 0.7186, 0.8739],\n",
            "        [0.4939, 0.3025, 0.6117],\n",
            "        [0.3511, 0.6381, 0.9037],\n",
            "        [0.8047, 0.1503, 0.8060],\n",
            "        [0.2072, 0.8655, 0.0623]])\n",
            "Shape of W2:  torch.Size([5, 3])\n",
            "\n",
            "Tensor b2 = tensor([0.4701, 0.0930, 0.7186])\n",
            "Shape of b2:  torch.Size([3])\n",
            "\n",
            "Tensor H2 = tensor([7.1093, 8.2596, 9.0627], dtype=torch.float64)\n",
            "\n",
            "Y2: tensor([0.9992, 0.9997, 0.9999], dtype=torch.float64)\n"
          ],
          "name": "stdout"
        }
      ]
    },
    {
      "cell_type": "markdown",
      "metadata": {
        "id": "HYNx84SOtd-b"
      },
      "source": [
        "**Now there are 3 neurons outputs!!**"
      ]
    },
    {
      "cell_type": "markdown",
      "metadata": {
        "id": "k9ZvEMtpL96g"
      },
      "source": [
        "Q6.  Stacking one neuron on top of others. The real power of a neural network comes when we apply one function on top of others. ( 3 output units)\n",
        "1. Define 2-D tensor “W21” containing random numbers of shape 3 * 3\n",
        "2. Define 1-D tensor “b3” containing 3 random number\n",
        "3. Compute “H3 = W21 * Y2 + b”. Compute the expected shape of H3.\n",
        "4. Apply softmax pytorch activation function to H3.\n"
      ]
    },
    {
      "cell_type": "code",
      "metadata": {
        "id": "CGHA1vkXMFGj",
        "colab": {
          "base_uri": "https://localhost:8080/"
        },
        "outputId": "b4df0a41-6be1-484a-89f3-ee396fff0094"
      },
      "source": [
        "W21 = torch.rand(3,3)\n",
        "print('\\nTensor W21 =', W21)\n",
        "print('Shape of W21: ', W21.shape)\n",
        "\n",
        "b3 = torch.rand(3)\n",
        "print('\\nTensor b3 =', b3)\n",
        "print('Shape of b3: ', b3.shape)\n",
        "\n",
        "H3 = torch.matmul(W21.type(torch.DoubleTensor), Y2.type(torch.DoubleTensor)) + b3\n",
        "print('\\nTensor H3 =', H3)\n",
        "print('\\nShape of H3:', H3.shape)\n",
        "\n",
        "m = nn.Softmax()\n",
        "Y3 = m(H3)\n",
        "print('\\nY3:', Y3)\n",
        "\n"
      ],
      "execution_count": 68,
      "outputs": [
        {
          "output_type": "stream",
          "text": [
            "\n",
            "Tensor W21 = tensor([[0.1433, 0.9002, 0.6825],\n",
            "        [0.9048, 0.2305, 0.8285],\n",
            "        [0.0959, 0.0697, 0.2019]])\n",
            "Shape of W21:  torch.Size([3, 3])\n",
            "\n",
            "Tensor b3 = tensor([0.2841, 0.6278, 0.2170])\n",
            "Shape of b3:  torch.Size([3])\n",
            "\n",
            "Tensor H3 = tensor([2.0097, 2.5907, 0.5843], dtype=torch.float64)\n",
            "\n",
            "Shape of H3: torch.Size([3])\n",
            "\n",
            "Y3: tensor([0.3302, 0.5904, 0.0794], dtype=torch.float64)\n"
          ],
          "name": "stdout"
        },
        {
          "output_type": "stream",
          "text": [
            "/usr/local/lib/python3.6/dist-packages/ipykernel_launcher.py:14: UserWarning: Implicit dimension choice for softmax has been deprecated. Change the call to include dim=X as an argument.\n",
            "  \n"
          ],
          "name": "stderr"
        }
      ]
    },
    {
      "cell_type": "markdown",
      "metadata": {
        "id": "zjns7H0HBC59"
      },
      "source": [
        "**Now there are 3 neurons outputs!!**"
      ]
    }
  ]
}